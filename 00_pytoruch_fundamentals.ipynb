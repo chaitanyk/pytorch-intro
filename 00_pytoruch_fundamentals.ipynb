{
  "nbformat": 4,
  "nbformat_minor": 0,
  "metadata": {
    "colab": {
      "provenance": [],
      "authorship_tag": "ABX9TyN5j572M01ab06oWEymMYpV",
      "include_colab_link": true
    },
    "kernelspec": {
      "name": "python3",
      "display_name": "Python 3"
    },
    "language_info": {
      "name": "python"
    }
  },
  "cells": [
    {
      "cell_type": "markdown",
      "metadata": {
        "id": "view-in-github",
        "colab_type": "text"
      },
      "source": [
        "<a href=\"https://colab.research.google.com/github/chaitanyk/pytorch-intro/blob/main/00_pytoruch_fundamentals.ipynb\" target=\"_parent\"><img src=\"https://colab.research.google.com/assets/colab-badge.svg\" alt=\"Open In Colab\"/></a>"
      ]
    },
    {
      "cell_type": "code",
      "execution_count": 35,
      "metadata": {
        "colab": {
          "base_uri": "https://localhost:8080/"
        },
        "id": "sxhejbNcR0gq",
        "outputId": "203cf718-7511-478c-eb95-7144d2a5ee6d"
      },
      "outputs": [
        {
          "output_type": "stream",
          "name": "stdout",
          "text": [
            "Hello !! I am Excited !!\n"
          ]
        }
      ],
      "source": [
        "print (\"Hello !! I am Excited !!\");"
      ]
    },
    {
      "cell_type": "code",
      "source": [
        "import torch\n",
        "import pandas as pd\n",
        "import numpy as np\n",
        "import matplotlib.pyplot as plt\n",
        "print(torch.__version__)"
      ],
      "metadata": {
        "colab": {
          "base_uri": "https://localhost:8080/"
        },
        "id": "vS1ONOZtS_vU",
        "outputId": "9a2529bb-be78-40ad-cf19-9a040ee75d25"
      },
      "execution_count": 36,
      "outputs": [
        {
          "output_type": "stream",
          "name": "stdout",
          "text": [
            "2.0.1+cu118\n"
          ]
        }
      ]
    },
    {
      "cell_type": "code",
      "source": [
        "scalar = torch.tensor(7)\n",
        "scalar\n",
        "scalar.ndim\n"
      ],
      "metadata": {
        "colab": {
          "base_uri": "https://localhost:8080/"
        },
        "id": "pAP3iM2CfDUH",
        "outputId": "4f3b8a4b-c076-448c-dc9b-f16a5bc5b641"
      },
      "execution_count": 37,
      "outputs": [
        {
          "output_type": "execute_result",
          "data": {
            "text/plain": [
              "0"
            ]
          },
          "metadata": {},
          "execution_count": 37
        }
      ]
    },
    {
      "cell_type": "code",
      "source": [
        "vector = torch.tensor([1,2,3])\n",
        "vector\n",
        "\n",
        "\n"
      ],
      "metadata": {
        "colab": {
          "base_uri": "https://localhost:8080/"
        },
        "id": "QEzXYstviLW_",
        "outputId": "47c1de74-fe30-4bb9-e28d-1e1c76605f5a"
      },
      "execution_count": 38,
      "outputs": [
        {
          "output_type": "execute_result",
          "data": {
            "text/plain": [
              "tensor([1, 2, 3])"
            ]
          },
          "metadata": {},
          "execution_count": 38
        }
      ]
    },
    {
      "cell_type": "code",
      "source": [
        "matrix = torch.tensor([[1,2],[3,4]])\n",
        "matrix\n"
      ],
      "metadata": {
        "colab": {
          "base_uri": "https://localhost:8080/"
        },
        "id": "1c3gJQrTi6WR",
        "outputId": "9827eac6-b97d-44ad-d44b-ee53d82128f1"
      },
      "execution_count": 39,
      "outputs": [
        {
          "output_type": "execute_result",
          "data": {
            "text/plain": [
              "tensor([[1, 2],\n",
              "        [3, 4]])"
            ]
          },
          "metadata": {},
          "execution_count": 39
        }
      ]
    },
    {
      "cell_type": "code",
      "source": [
        "\n",
        "tensor = torch.tensor([[[1,2],[3,4],[5,6]],[[7,8],[9,10],[11,12]]])\n",
        "tensor[0][0]\n",
        "tensor.size()\n",
        "tensor.ndim\n",
        "\n"
      ],
      "metadata": {
        "colab": {
          "base_uri": "https://localhost:8080/"
        },
        "id": "aqV49lM9i-M8",
        "outputId": "0dcedc47-8292-4d74-b4e9-6b5664d06149"
      },
      "execution_count": 40,
      "outputs": [
        {
          "output_type": "execute_result",
          "data": {
            "text/plain": [
              "3"
            ]
          },
          "metadata": {},
          "execution_count": 40
        }
      ]
    },
    {
      "cell_type": "code",
      "source": [
        "rand_tensor = torch.rand(10,2,2,2)\n",
        "rand_tensor\n"
      ],
      "metadata": {
        "colab": {
          "base_uri": "https://localhost:8080/"
        },
        "id": "iVfM-3xa9nhu",
        "outputId": "44a84f59-3fc8-4396-eb12-0491444f673e"
      },
      "execution_count": 41,
      "outputs": [
        {
          "output_type": "execute_result",
          "data": {
            "text/plain": [
              "tensor([[[[0.8384, 0.0833],\n",
              "          [0.6567, 0.4919]],\n",
              "\n",
              "         [[0.1333, 0.7236],\n",
              "          [0.9095, 0.8385]]],\n",
              "\n",
              "\n",
              "        [[[0.9841, 0.7471],\n",
              "          [0.6297, 0.8106]],\n",
              "\n",
              "         [[0.6989, 0.4053],\n",
              "          [0.7321, 0.3074]]],\n",
              "\n",
              "\n",
              "        [[[0.3356, 0.7523],\n",
              "          [0.5227, 0.6547]],\n",
              "\n",
              "         [[0.3509, 0.6576],\n",
              "          [0.0198, 0.6717]]],\n",
              "\n",
              "\n",
              "        [[[0.0357, 0.7504],\n",
              "          [0.4356, 0.4244]],\n",
              "\n",
              "         [[0.8757, 0.9877],\n",
              "          [0.3962, 0.0936]]],\n",
              "\n",
              "\n",
              "        [[[0.4277, 0.6043],\n",
              "          [0.4647, 0.4496]],\n",
              "\n",
              "         [[0.2454, 0.4273],\n",
              "          [0.8218, 0.2303]]],\n",
              "\n",
              "\n",
              "        [[[0.1280, 0.0758],\n",
              "          [0.3415, 0.0951]],\n",
              "\n",
              "         [[0.8896, 0.5524],\n",
              "          [0.4415, 0.0145]]],\n",
              "\n",
              "\n",
              "        [[[0.9688, 0.0247],\n",
              "          [0.3266, 0.7848]],\n",
              "\n",
              "         [[0.1029, 0.2373],\n",
              "          [0.4995, 0.8767]]],\n",
              "\n",
              "\n",
              "        [[[0.6743, 0.9747],\n",
              "          [0.4719, 0.4757]],\n",
              "\n",
              "         [[0.3221, 0.8696],\n",
              "          [0.2698, 0.5994]]],\n",
              "\n",
              "\n",
              "        [[[0.8845, 0.7076],\n",
              "          [0.8380, 0.7495]],\n",
              "\n",
              "         [[0.0014, 0.8868],\n",
              "          [0.0848, 0.6484]]],\n",
              "\n",
              "\n",
              "        [[[0.1760, 0.0351],\n",
              "          [0.6254, 0.5343]],\n",
              "\n",
              "         [[0.8301, 0.5611],\n",
              "          [0.8994, 0.8192]]]])"
            ]
          },
          "metadata": {},
          "execution_count": 41
        }
      ]
    },
    {
      "cell_type": "code",
      "source": [
        "r_image = torch.ones(size=(3,10,10))\n",
        "r_image\n"
      ],
      "metadata": {
        "colab": {
          "base_uri": "https://localhost:8080/"
        },
        "id": "sdV_EYbM-9Oa",
        "outputId": "33177166-b207-4e11-e944-ab5c636cd49d"
      },
      "execution_count": 42,
      "outputs": [
        {
          "output_type": "execute_result",
          "data": {
            "text/plain": [
              "tensor([[[1., 1., 1., 1., 1., 1., 1., 1., 1., 1.],\n",
              "         [1., 1., 1., 1., 1., 1., 1., 1., 1., 1.],\n",
              "         [1., 1., 1., 1., 1., 1., 1., 1., 1., 1.],\n",
              "         [1., 1., 1., 1., 1., 1., 1., 1., 1., 1.],\n",
              "         [1., 1., 1., 1., 1., 1., 1., 1., 1., 1.],\n",
              "         [1., 1., 1., 1., 1., 1., 1., 1., 1., 1.],\n",
              "         [1., 1., 1., 1., 1., 1., 1., 1., 1., 1.],\n",
              "         [1., 1., 1., 1., 1., 1., 1., 1., 1., 1.],\n",
              "         [1., 1., 1., 1., 1., 1., 1., 1., 1., 1.],\n",
              "         [1., 1., 1., 1., 1., 1., 1., 1., 1., 1.]],\n",
              "\n",
              "        [[1., 1., 1., 1., 1., 1., 1., 1., 1., 1.],\n",
              "         [1., 1., 1., 1., 1., 1., 1., 1., 1., 1.],\n",
              "         [1., 1., 1., 1., 1., 1., 1., 1., 1., 1.],\n",
              "         [1., 1., 1., 1., 1., 1., 1., 1., 1., 1.],\n",
              "         [1., 1., 1., 1., 1., 1., 1., 1., 1., 1.],\n",
              "         [1., 1., 1., 1., 1., 1., 1., 1., 1., 1.],\n",
              "         [1., 1., 1., 1., 1., 1., 1., 1., 1., 1.],\n",
              "         [1., 1., 1., 1., 1., 1., 1., 1., 1., 1.],\n",
              "         [1., 1., 1., 1., 1., 1., 1., 1., 1., 1.],\n",
              "         [1., 1., 1., 1., 1., 1., 1., 1., 1., 1.]],\n",
              "\n",
              "        [[1., 1., 1., 1., 1., 1., 1., 1., 1., 1.],\n",
              "         [1., 1., 1., 1., 1., 1., 1., 1., 1., 1.],\n",
              "         [1., 1., 1., 1., 1., 1., 1., 1., 1., 1.],\n",
              "         [1., 1., 1., 1., 1., 1., 1., 1., 1., 1.],\n",
              "         [1., 1., 1., 1., 1., 1., 1., 1., 1., 1.],\n",
              "         [1., 1., 1., 1., 1., 1., 1., 1., 1., 1.],\n",
              "         [1., 1., 1., 1., 1., 1., 1., 1., 1., 1.],\n",
              "         [1., 1., 1., 1., 1., 1., 1., 1., 1., 1.],\n",
              "         [1., 1., 1., 1., 1., 1., 1., 1., 1., 1.],\n",
              "         [1., 1., 1., 1., 1., 1., 1., 1., 1., 1.]]])"
            ]
          },
          "metadata": {},
          "execution_count": 42
        }
      ]
    },
    {
      "cell_type": "code",
      "source": [
        "data_1=torch.rand(3,10,10)\n",
        "zero_1=torch.zeros(1,10,10)\n",
        "zero_1.dtype"
      ],
      "metadata": {
        "colab": {
          "base_uri": "https://localhost:8080/"
        },
        "id": "IIsXcdLtAiYx",
        "outputId": "7316e190-d295-4179-f583-b653fef1c034"
      },
      "execution_count": 43,
      "outputs": [
        {
          "output_type": "execute_result",
          "data": {
            "text/plain": [
              "torch.float32"
            ]
          },
          "metadata": {},
          "execution_count": 43
        }
      ]
    },
    {
      "cell_type": "code",
      "source": [
        "r_one = torch.arange(start=0,end=501,step=100)\n",
        "an_one = torch.ones_like(input=r_one)\n",
        "an_one"
      ],
      "metadata": {
        "colab": {
          "base_uri": "https://localhost:8080/"
        },
        "id": "MjdUtqxgBXHD",
        "outputId": "ad4358ec-ee36-4754-8301-686dafa59139"
      },
      "execution_count": 44,
      "outputs": [
        {
          "output_type": "execute_result",
          "data": {
            "text/plain": [
              "tensor([1, 1, 1, 1, 1, 1])"
            ]
          },
          "metadata": {},
          "execution_count": 44
        }
      ]
    },
    {
      "cell_type": "code",
      "source": [
        "f_16_ten = torch.tensor([1.2,3.2,4.2],dtype=torch.bfloat16,device=None,requires_grad=False)\n",
        "f_16_ten.dtype\n",
        "f_32_tensor = f_16_ten.type(torch.float32)\n",
        "f_32_tensor.device\n",
        "print(f\"Shape of tensor: {f_32_tensor.shape}\")\n",
        "print(f\"Datatype of tensor: {f_32_tensor.dtype}\")\n"
      ],
      "metadata": {
        "colab": {
          "base_uri": "https://localhost:8080/"
        },
        "id": "kLfVQs9qCkvg",
        "outputId": "1ba138b2-e1cf-42f4-dcc0-335605b86d26"
      },
      "execution_count": 45,
      "outputs": [
        {
          "output_type": "stream",
          "name": "stdout",
          "text": [
            "Shape of tensor: torch.Size([3])\n",
            "Datatype of tensor: torch.float32\n"
          ]
        }
      ]
    },
    {
      "cell_type": "code",
      "source": [
        "t1 = torch.tensor([[1,2,3]])\n",
        "t1a = torch.tensor([1,2,3])\n",
        "t2 = torch.tensor([[1,2,3,4],[2,3,4,5],[4,5,6,7]])\n",
        "t3=torch.tensor([[1],[2],[3]])\n",
        "print(f\"t1 size:  {t1.size()}  t1a size:  {t1a.size()} \\nt2 size : {t2.size()}  t3 size: {t3.size()}\")\n",
        "print(f\"mult t1 t3 : {torch.matmul(t1,t3)}\")\n",
        "print(f\"size {t1a.size()} mult t1a: {torch.matmul(t1a,t1a)}\")\n",
        "\n",
        "\n",
        "\n",
        "\n",
        "\n"
      ],
      "metadata": {
        "colab": {
          "base_uri": "https://localhost:8080/"
        },
        "id": "Nl3Enke1BiUs",
        "outputId": "9d7a6ba5-4c1f-4646-e87f-e503bbe90b35"
      },
      "execution_count": 46,
      "outputs": [
        {
          "output_type": "stream",
          "name": "stdout",
          "text": [
            "t1 size:  torch.Size([1, 3])  t1a size:  torch.Size([3]) \n",
            "t2 size : torch.Size([3, 4])  t3 size: torch.Size([3, 1])\n",
            "mult t1 t3 : tensor([[14]])\n",
            "size torch.Size([3]) mult t1a: 14\n"
          ]
        }
      ]
    },
    {
      "cell_type": "code",
      "source": [
        "t5 = torch.tensor([1,2,3])\n",
        "torch.matmul(t5,t5)"
      ],
      "metadata": {
        "colab": {
          "base_uri": "https://localhost:8080/"
        },
        "id": "2bMwPiL2l9fD",
        "outputId": "26d2f669-bf53-4061-a2df-778425db5de2"
      },
      "execution_count": 47,
      "outputs": [
        {
          "output_type": "execute_result",
          "data": {
            "text/plain": [
              "tensor(14)"
            ]
          },
          "metadata": {},
          "execution_count": 47
        }
      ]
    },
    {
      "cell_type": "markdown",
      "source": [],
      "metadata": {
        "id": "HSOa4rSjsf70"
      }
    },
    {
      "cell_type": "code",
      "source": [
        "left = torch.rand(2,3,4)\n",
        "right = torch.rand(4,2)\n",
        "print(f\"mul res shape :  {torch.matmul(left,right).shape}\");"
      ],
      "metadata": {
        "colab": {
          "base_uri": "https://localhost:8080/"
        },
        "id": "zg42LGaqpcmG",
        "outputId": "cec576f9-6d8e-48b1-a2f6-bec78a1e656b"
      },
      "execution_count": 48,
      "outputs": [
        {
          "output_type": "stream",
          "name": "stdout",
          "text": [
            "mul res shape :  torch.Size([2, 3, 2])\n"
          ]
        }
      ]
    },
    {
      "cell_type": "code",
      "source": [
        "x = torch.tensor([3,3,6])\n",
        "x.type(torch.float32).mean()\n",
        "\n"
      ],
      "metadata": {
        "colab": {
          "base_uri": "https://localhost:8080/"
        },
        "id": "cJq9t2ukwpc-",
        "outputId": "948302c8-9be2-49eb-e50f-f6abb4222245"
      },
      "execution_count": 49,
      "outputs": [
        {
          "output_type": "execute_result",
          "data": {
            "text/plain": [
              "tensor(4.)"
            ]
          },
          "metadata": {},
          "execution_count": 49
        }
      ]
    },
    {
      "cell_type": "code",
      "source": [
        "t1 =  torch.tensor([3,93,6,2,34,65]) # torch.arange(0,100,10)\n",
        "\n",
        "t1[t1.argmax()]"
      ],
      "metadata": {
        "colab": {
          "base_uri": "https://localhost:8080/"
        },
        "id": "knI52U9xy7sL",
        "outputId": "e9c51e24-8bbd-4679-f99c-86ae4729da01"
      },
      "execution_count": 50,
      "outputs": [
        {
          "output_type": "execute_result",
          "data": {
            "text/plain": [
              "tensor(93)"
            ]
          },
          "metadata": {},
          "execution_count": 50
        }
      ]
    },
    {
      "cell_type": "code",
      "source": [
        "x = torch.arange(1.,10.)\n",
        "x,x.shape\n"
      ],
      "metadata": {
        "colab": {
          "base_uri": "https://localhost:8080/"
        },
        "id": "Z8UonMP-F11t",
        "outputId": "050ecd56-a947-49cf-edec-23dadb8ceb7f"
      },
      "execution_count": 51,
      "outputs": [
        {
          "output_type": "execute_result",
          "data": {
            "text/plain": [
              "(tensor([1., 2., 3., 4., 5., 6., 7., 8., 9.]), torch.Size([9]))"
            ]
          },
          "metadata": {},
          "execution_count": 51
        }
      ]
    },
    {
      "cell_type": "code",
      "source": [
        "x_reshape = x.reshape(9,1)\n",
        "x_reshape.shape\n",
        "print(f\"orig {x.shape} \\nreshape {x_reshape.shape}\")"
      ],
      "metadata": {
        "colab": {
          "base_uri": "https://localhost:8080/"
        },
        "id": "1RMPFPHkGLb9",
        "outputId": "db9e14ea-43e5-4ef9-d973-be6a517977dc"
      },
      "execution_count": 52,
      "outputs": [
        {
          "output_type": "stream",
          "name": "stdout",
          "text": [
            "orig torch.Size([9]) \n",
            "reshape torch.Size([9, 1])\n"
          ]
        }
      ]
    },
    {
      "cell_type": "code",
      "source": [
        "x_re2shape = x_reshape.reshape(1,1,9)\n",
        "x_re2shape[0][0]"
      ],
      "metadata": {
        "colab": {
          "base_uri": "https://localhost:8080/"
        },
        "id": "vxb26CueG_XP",
        "outputId": "e31c80c7-585c-4c46-eb83-eb260e266bef"
      },
      "execution_count": 53,
      "outputs": [
        {
          "output_type": "execute_result",
          "data": {
            "text/plain": [
              "tensor([1., 2., 3., 4., 5., 6., 7., 8., 9.])"
            ]
          },
          "metadata": {},
          "execution_count": 53
        }
      ]
    },
    {
      "cell_type": "code",
      "source": [
        "x_reshapeA = x.reshape(3,3)\n",
        "x_reshapeA\n"
      ],
      "metadata": {
        "colab": {
          "base_uri": "https://localhost:8080/"
        },
        "id": "xPqGqG-VHGtn",
        "outputId": "b759b25d-6946-49ea-9366-fc602700ff10"
      },
      "execution_count": 54,
      "outputs": [
        {
          "output_type": "execute_result",
          "data": {
            "text/plain": [
              "tensor([[1., 2., 3.],\n",
              "        [4., 5., 6.],\n",
              "        [7., 8., 9.]])"
            ]
          },
          "metadata": {},
          "execution_count": 54
        }
      ]
    },
    {
      "cell_type": "code",
      "source": [
        "z=x.view(1,9)\n",
        "z[0][0] = 3\n",
        "x\n",
        "\n"
      ],
      "metadata": {
        "colab": {
          "base_uri": "https://localhost:8080/"
        },
        "id": "YHp_iX7Wtf7Q",
        "outputId": "15082125-1e37-4e2a-b411-01fc0dd2e850"
      },
      "execution_count": 59,
      "outputs": [
        {
          "output_type": "execute_result",
          "data": {
            "text/plain": [
              "tensor([3., 2., 3., 4., 5., 6., 7., 8., 9.])"
            ]
          },
          "metadata": {},
          "execution_count": 59
        }
      ]
    }
  ]
}