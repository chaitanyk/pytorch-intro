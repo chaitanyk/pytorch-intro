{
  "nbformat": 4,
  "nbformat_minor": 0,
  "metadata": {
    "colab": {
      "provenance": [],
      "gpuType": "T4",
      "authorship_tag": "ABX9TyO+xMeRSSQ8FbMeSKsWi0Ea",
      "include_colab_link": true
    },
    "kernelspec": {
      "name": "python3",
      "display_name": "Python 3"
    },
    "language_info": {
      "name": "python"
    },
    "accelerator": "GPU"
  },
  "cells": [
    {
      "cell_type": "markdown",
      "metadata": {
        "id": "view-in-github",
        "colab_type": "text"
      },
      "source": [
        "<a href=\"https://colab.research.google.com/github/chaitanyk/pytorch-intro/blob/main/00_pytoruch_fundamentals.ipynb\" target=\"_parent\"><img src=\"https://colab.research.google.com/assets/colab-badge.svg\" alt=\"Open In Colab\"/></a>"
      ]
    },
    {
      "cell_type": "code",
      "execution_count": 1,
      "metadata": {
        "colab": {
          "base_uri": "https://localhost:8080/"
        },
        "id": "sxhejbNcR0gq",
        "outputId": "3e0cde4a-06f9-4406-f4d4-3ce801310970"
      },
      "outputs": [
        {
          "output_type": "stream",
          "name": "stdout",
          "text": [
            "Hello !! I am Excited !!\n"
          ]
        }
      ],
      "source": [
        "print (\"Hello !! I am Excited !!\");"
      ]
    },
    {
      "cell_type": "code",
      "source": [
        "import torch\n",
        "import pandas as pd\n",
        "import numpy as np\n",
        "import matplotlib.pyplot as plt\n",
        "print(torch.__version__)"
      ],
      "metadata": {
        "colab": {
          "base_uri": "https://localhost:8080/"
        },
        "id": "vS1ONOZtS_vU",
        "outputId": "e3e917e2-488b-4d98-b110-d0a18093b9fa"
      },
      "execution_count": 2,
      "outputs": [
        {
          "output_type": "stream",
          "name": "stdout",
          "text": [
            "2.0.1+cu118\n"
          ]
        }
      ]
    },
    {
      "cell_type": "code",
      "source": [
        "scalar = torch.tensor(7)\n",
        "scalar\n",
        "scalar.ndim\n"
      ],
      "metadata": {
        "colab": {
          "base_uri": "https://localhost:8080/"
        },
        "id": "pAP3iM2CfDUH",
        "outputId": "f577471c-ba3c-49e8-c8bc-bc84b520563e"
      },
      "execution_count": 3,
      "outputs": [
        {
          "output_type": "execute_result",
          "data": {
            "text/plain": [
              "0"
            ]
          },
          "metadata": {},
          "execution_count": 3
        }
      ]
    },
    {
      "cell_type": "code",
      "source": [
        "vector = torch.tensor([1,2,3])\n",
        "vector\n",
        "\n",
        "\n"
      ],
      "metadata": {
        "colab": {
          "base_uri": "https://localhost:8080/"
        },
        "id": "QEzXYstviLW_",
        "outputId": "e3a9e8ec-cf65-423f-da82-e13327cfee8f"
      },
      "execution_count": 4,
      "outputs": [
        {
          "output_type": "execute_result",
          "data": {
            "text/plain": [
              "tensor([1, 2, 3])"
            ]
          },
          "metadata": {},
          "execution_count": 4
        }
      ]
    },
    {
      "cell_type": "code",
      "source": [
        "matrix = torch.tensor([[1,2],[3,4]])\n",
        "matrix\n"
      ],
      "metadata": {
        "colab": {
          "base_uri": "https://localhost:8080/"
        },
        "id": "1c3gJQrTi6WR",
        "outputId": "0c12cc4e-88c9-40d3-a297-9e8edb4b8d9d"
      },
      "execution_count": 5,
      "outputs": [
        {
          "output_type": "execute_result",
          "data": {
            "text/plain": [
              "tensor([[1, 2],\n",
              "        [3, 4]])"
            ]
          },
          "metadata": {},
          "execution_count": 5
        }
      ]
    },
    {
      "cell_type": "code",
      "source": [
        "\n",
        "tensor = torch.tensor([[[1,2],[3,4],[5,6]],[[7,8],[9,10],[11,12]]])\n",
        "tensor[0][0]\n",
        "tensor.size()\n",
        "tensor.ndim\n",
        "\n"
      ],
      "metadata": {
        "colab": {
          "base_uri": "https://localhost:8080/"
        },
        "id": "aqV49lM9i-M8",
        "outputId": "7b0cdb83-82b9-4e6d-e2c6-737453cc0fd3"
      },
      "execution_count": 6,
      "outputs": [
        {
          "output_type": "execute_result",
          "data": {
            "text/plain": [
              "3"
            ]
          },
          "metadata": {},
          "execution_count": 6
        }
      ]
    },
    {
      "cell_type": "code",
      "source": [
        "rand_tensor = torch.rand(10,2,2,2)\n",
        "rand_tensor\n"
      ],
      "metadata": {
        "colab": {
          "base_uri": "https://localhost:8080/"
        },
        "id": "iVfM-3xa9nhu",
        "outputId": "44c7018b-7e75-4656-8b5d-f832a8c449f1"
      },
      "execution_count": 7,
      "outputs": [
        {
          "output_type": "execute_result",
          "data": {
            "text/plain": [
              "tensor([[[[0.7791, 0.3595],\n",
              "          [0.2843, 0.7080]],\n",
              "\n",
              "         [[0.7302, 0.7185],\n",
              "          [0.6139, 0.7073]]],\n",
              "\n",
              "\n",
              "        [[[0.8283, 0.1759],\n",
              "          [0.5615, 0.0091]],\n",
              "\n",
              "         [[0.6877, 0.3058],\n",
              "          [0.3226, 0.8634]]],\n",
              "\n",
              "\n",
              "        [[[0.6246, 0.7997],\n",
              "          [0.5170, 0.2572]],\n",
              "\n",
              "         [[0.7492, 0.7680],\n",
              "          [0.9151, 0.8245]]],\n",
              "\n",
              "\n",
              "        [[[0.5416, 0.8832],\n",
              "          [0.4443, 0.8151]],\n",
              "\n",
              "         [[0.1435, 0.9841],\n",
              "          [0.8005, 0.4188]]],\n",
              "\n",
              "\n",
              "        [[[0.2956, 0.8523],\n",
              "          [0.7793, 0.8007]],\n",
              "\n",
              "         [[0.2799, 0.4568],\n",
              "          [0.2855, 0.9882]]],\n",
              "\n",
              "\n",
              "        [[[0.4959, 0.2618],\n",
              "          [0.4122, 0.1435]],\n",
              "\n",
              "         [[0.3581, 0.9459],\n",
              "          [0.3512, 0.0930]]],\n",
              "\n",
              "\n",
              "        [[[0.4246, 0.7411],\n",
              "          [0.0056, 0.7202]],\n",
              "\n",
              "         [[0.1422, 0.3243],\n",
              "          [0.7358, 0.6360]]],\n",
              "\n",
              "\n",
              "        [[[0.2348, 0.6013],\n",
              "          [0.1352, 0.7763]],\n",
              "\n",
              "         [[0.3680, 0.6531],\n",
              "          [0.1256, 0.7624]]],\n",
              "\n",
              "\n",
              "        [[[0.0308, 0.1291],\n",
              "          [0.2143, 0.3568]],\n",
              "\n",
              "         [[0.1691, 0.8078],\n",
              "          [0.0397, 0.1846]]],\n",
              "\n",
              "\n",
              "        [[[0.2183, 0.2625],\n",
              "          [0.3309, 0.9292]],\n",
              "\n",
              "         [[0.6703, 0.5850],\n",
              "          [0.7383, 0.4866]]]])"
            ]
          },
          "metadata": {},
          "execution_count": 7
        }
      ]
    },
    {
      "cell_type": "code",
      "source": [
        "r_image = torch.ones(size=(3,10,10))\n",
        "r_image\n"
      ],
      "metadata": {
        "colab": {
          "base_uri": "https://localhost:8080/"
        },
        "id": "sdV_EYbM-9Oa",
        "outputId": "013ae70b-2d03-40de-b6b2-2d4aa6922fdb"
      },
      "execution_count": 8,
      "outputs": [
        {
          "output_type": "execute_result",
          "data": {
            "text/plain": [
              "tensor([[[1., 1., 1., 1., 1., 1., 1., 1., 1., 1.],\n",
              "         [1., 1., 1., 1., 1., 1., 1., 1., 1., 1.],\n",
              "         [1., 1., 1., 1., 1., 1., 1., 1., 1., 1.],\n",
              "         [1., 1., 1., 1., 1., 1., 1., 1., 1., 1.],\n",
              "         [1., 1., 1., 1., 1., 1., 1., 1., 1., 1.],\n",
              "         [1., 1., 1., 1., 1., 1., 1., 1., 1., 1.],\n",
              "         [1., 1., 1., 1., 1., 1., 1., 1., 1., 1.],\n",
              "         [1., 1., 1., 1., 1., 1., 1., 1., 1., 1.],\n",
              "         [1., 1., 1., 1., 1., 1., 1., 1., 1., 1.],\n",
              "         [1., 1., 1., 1., 1., 1., 1., 1., 1., 1.]],\n",
              "\n",
              "        [[1., 1., 1., 1., 1., 1., 1., 1., 1., 1.],\n",
              "         [1., 1., 1., 1., 1., 1., 1., 1., 1., 1.],\n",
              "         [1., 1., 1., 1., 1., 1., 1., 1., 1., 1.],\n",
              "         [1., 1., 1., 1., 1., 1., 1., 1., 1., 1.],\n",
              "         [1., 1., 1., 1., 1., 1., 1., 1., 1., 1.],\n",
              "         [1., 1., 1., 1., 1., 1., 1., 1., 1., 1.],\n",
              "         [1., 1., 1., 1., 1., 1., 1., 1., 1., 1.],\n",
              "         [1., 1., 1., 1., 1., 1., 1., 1., 1., 1.],\n",
              "         [1., 1., 1., 1., 1., 1., 1., 1., 1., 1.],\n",
              "         [1., 1., 1., 1., 1., 1., 1., 1., 1., 1.]],\n",
              "\n",
              "        [[1., 1., 1., 1., 1., 1., 1., 1., 1., 1.],\n",
              "         [1., 1., 1., 1., 1., 1., 1., 1., 1., 1.],\n",
              "         [1., 1., 1., 1., 1., 1., 1., 1., 1., 1.],\n",
              "         [1., 1., 1., 1., 1., 1., 1., 1., 1., 1.],\n",
              "         [1., 1., 1., 1., 1., 1., 1., 1., 1., 1.],\n",
              "         [1., 1., 1., 1., 1., 1., 1., 1., 1., 1.],\n",
              "         [1., 1., 1., 1., 1., 1., 1., 1., 1., 1.],\n",
              "         [1., 1., 1., 1., 1., 1., 1., 1., 1., 1.],\n",
              "         [1., 1., 1., 1., 1., 1., 1., 1., 1., 1.],\n",
              "         [1., 1., 1., 1., 1., 1., 1., 1., 1., 1.]]])"
            ]
          },
          "metadata": {},
          "execution_count": 8
        }
      ]
    },
    {
      "cell_type": "code",
      "source": [
        "data_1=torch.rand(3,10,10)\n",
        "zero_1=torch.zeros(1,10,10)\n",
        "zero_1.dtype"
      ],
      "metadata": {
        "colab": {
          "base_uri": "https://localhost:8080/"
        },
        "id": "IIsXcdLtAiYx",
        "outputId": "aeff9579-d207-4742-8af9-f6a7bdf58176"
      },
      "execution_count": 9,
      "outputs": [
        {
          "output_type": "execute_result",
          "data": {
            "text/plain": [
              "torch.float32"
            ]
          },
          "metadata": {},
          "execution_count": 9
        }
      ]
    },
    {
      "cell_type": "code",
      "source": [
        "r_one = torch.arange(start=0,end=501,step=100)\n",
        "an_one = torch.ones_like(input=r_one)\n",
        "an_one"
      ],
      "metadata": {
        "colab": {
          "base_uri": "https://localhost:8080/"
        },
        "id": "MjdUtqxgBXHD",
        "outputId": "a4dc51fb-f160-4da5-e716-c948981d87c5"
      },
      "execution_count": 10,
      "outputs": [
        {
          "output_type": "execute_result",
          "data": {
            "text/plain": [
              "tensor([1, 1, 1, 1, 1, 1])"
            ]
          },
          "metadata": {},
          "execution_count": 10
        }
      ]
    },
    {
      "cell_type": "code",
      "source": [
        "f_16_ten = torch.tensor([1.2,3.2,4.2],dtype=torch.bfloat16,device=None,requires_grad=False)\n",
        "f_16_ten.dtype\n",
        "f_32_tensor = f_16_ten.type(torch.float32)\n",
        "f_32_tensor.device\n",
        "print(f\"Shape of tensor: {f_32_tensor.shape}\")\n",
        "print(f\"Datatype of tensor: {f_32_tensor.dtype}\")\n"
      ],
      "metadata": {
        "colab": {
          "base_uri": "https://localhost:8080/"
        },
        "id": "kLfVQs9qCkvg",
        "outputId": "c5a2dd2f-492b-4a95-c0c9-ab03059b28a5"
      },
      "execution_count": 11,
      "outputs": [
        {
          "output_type": "stream",
          "name": "stdout",
          "text": [
            "Shape of tensor: torch.Size([3])\n",
            "Datatype of tensor: torch.float32\n"
          ]
        }
      ]
    },
    {
      "cell_type": "code",
      "source": [
        "t1 = torch.tensor([[1,2,3]])\n",
        "t1a = torch.tensor([1,2,3])\n",
        "t2 = torch.tensor([[1,2,3,4],[2,3,4,5],[4,5,6,7]])\n",
        "t3=torch.tensor([[1],[2],[3]])\n",
        "print(f\"t1 size:  {t1.size()}  t1a size:  {t1a.size()} \\nt2 size : {t2.size()}  t3 size: {t3.size()}\")\n",
        "print(f\"mult t1 t3 : {torch.matmul(t1,t3)}\")\n",
        "print(f\"size {t1a.size()} mult t1a: {torch.matmul(t1a,t1a)}\")\n",
        "\n",
        "\n",
        "\n",
        "\n",
        "\n"
      ],
      "metadata": {
        "colab": {
          "base_uri": "https://localhost:8080/"
        },
        "id": "Nl3Enke1BiUs",
        "outputId": "fda92712-83c6-4f96-aaf5-6c7b4a44b59e"
      },
      "execution_count": 12,
      "outputs": [
        {
          "output_type": "stream",
          "name": "stdout",
          "text": [
            "t1 size:  torch.Size([1, 3])  t1a size:  torch.Size([3]) \n",
            "t2 size : torch.Size([3, 4])  t3 size: torch.Size([3, 1])\n",
            "mult t1 t3 : tensor([[14]])\n",
            "size torch.Size([3]) mult t1a: 14\n"
          ]
        }
      ]
    },
    {
      "cell_type": "code",
      "source": [
        "t5 = torch.tensor([1,2,3])\n",
        "torch.matmul(t5,t5)"
      ],
      "metadata": {
        "colab": {
          "base_uri": "https://localhost:8080/"
        },
        "id": "2bMwPiL2l9fD",
        "outputId": "10e21969-a8b0-4c06-de16-c085a976053e"
      },
      "execution_count": 13,
      "outputs": [
        {
          "output_type": "execute_result",
          "data": {
            "text/plain": [
              "tensor(14)"
            ]
          },
          "metadata": {},
          "execution_count": 13
        }
      ]
    },
    {
      "cell_type": "markdown",
      "source": [],
      "metadata": {
        "id": "HSOa4rSjsf70"
      }
    },
    {
      "cell_type": "code",
      "source": [
        "left = torch.rand(2,3,4)\n",
        "right = torch.rand(4,2)\n",
        "print(f\"mul res shape :  {torch.matmul(left,right).shape}\");"
      ],
      "metadata": {
        "colab": {
          "base_uri": "https://localhost:8080/"
        },
        "id": "zg42LGaqpcmG",
        "outputId": "99eb67dc-91c4-41ad-cabb-986fa7570d6f"
      },
      "execution_count": 14,
      "outputs": [
        {
          "output_type": "stream",
          "name": "stdout",
          "text": [
            "mul res shape :  torch.Size([2, 3, 2])\n"
          ]
        }
      ]
    },
    {
      "cell_type": "code",
      "source": [
        "x = torch.tensor([3,3,6])\n",
        "x.type(torch.float32).mean()\n",
        "\n"
      ],
      "metadata": {
        "colab": {
          "base_uri": "https://localhost:8080/"
        },
        "id": "cJq9t2ukwpc-",
        "outputId": "2d632ed3-a0c8-499f-ad34-418a03ddca7a"
      },
      "execution_count": 15,
      "outputs": [
        {
          "output_type": "execute_result",
          "data": {
            "text/plain": [
              "tensor(4.)"
            ]
          },
          "metadata": {},
          "execution_count": 15
        }
      ]
    },
    {
      "cell_type": "code",
      "source": [
        "t1 =  torch.tensor([3,93,6,2,34,65]) # torch.arange(0,100,10)\n",
        "\n",
        "t1[t1.argmax()]"
      ],
      "metadata": {
        "colab": {
          "base_uri": "https://localhost:8080/"
        },
        "id": "knI52U9xy7sL",
        "outputId": "a2ecccc8-6332-47cc-a073-c4d422da09c0"
      },
      "execution_count": 16,
      "outputs": [
        {
          "output_type": "execute_result",
          "data": {
            "text/plain": [
              "tensor(93)"
            ]
          },
          "metadata": {},
          "execution_count": 16
        }
      ]
    },
    {
      "cell_type": "code",
      "source": [
        "x = torch.arange(1.,10.)\n",
        "x,x.shape\n"
      ],
      "metadata": {
        "colab": {
          "base_uri": "https://localhost:8080/"
        },
        "id": "Z8UonMP-F11t",
        "outputId": "f1c5fb32-660d-44af-94c9-58f118a78a4d"
      },
      "execution_count": 43,
      "outputs": [
        {
          "output_type": "execute_result",
          "data": {
            "text/plain": [
              "(tensor([1., 2., 3., 4., 5., 6., 7., 8., 9.]), torch.Size([9]))"
            ]
          },
          "metadata": {},
          "execution_count": 43
        }
      ]
    },
    {
      "cell_type": "code",
      "source": [
        "x_reshape = x.reshape(9,1)\n",
        "x_reshape.shape\n",
        "print(f\"orig\\n {x.shape} \\nreshape\\n {x_reshape.shape}\")\n",
        "print(f\"orig\\n {x} \\nreshape\\n {x_reshape}\")"
      ],
      "metadata": {
        "colab": {
          "base_uri": "https://localhost:8080/"
        },
        "id": "1RMPFPHkGLb9",
        "outputId": "30be0c9c-b08b-4ead-eb3f-a380421a2a5d"
      },
      "execution_count": 45,
      "outputs": [
        {
          "output_type": "stream",
          "name": "stdout",
          "text": [
            "orig torch.Size([9]) \n",
            "reshape torch.Size([9, 1])\n",
            "orig tensor([1., 2., 3., 4., 5., 6., 7., 8., 9.]) \n",
            "reshape tensor([[1.],\n",
            "        [2.],\n",
            "        [3.],\n",
            "        [4.],\n",
            "        [5.],\n",
            "        [6.],\n",
            "        [7.],\n",
            "        [8.],\n",
            "        [9.]])\n"
          ]
        }
      ]
    },
    {
      "cell_type": "code",
      "source": [
        "x_re2shape = x_reshape.reshape(1,1,9)\n",
        "x_re2shape[0][0]\n",
        "print(f\"orig:\\n{x_reshape.size()} \\nreshape:\\n{x_re2shape.size()}\")\n",
        "print(f\"orig:\\n{x_reshape} \\nreshape:\\n{x_re2shape}\")"
      ],
      "metadata": {
        "colab": {
          "base_uri": "https://localhost:8080/"
        },
        "id": "vxb26CueG_XP",
        "outputId": "8bf18147-c398-444c-8ba9-cbd9d7666559"
      },
      "execution_count": 47,
      "outputs": [
        {
          "output_type": "stream",
          "name": "stdout",
          "text": [
            "orig:\n",
            "torch.Size([9, 1]) \n",
            "reshape:\n",
            "torch.Size([1, 1, 9])\n",
            "orig:\n",
            "tensor([[1.],\n",
            "        [2.],\n",
            "        [3.],\n",
            "        [4.],\n",
            "        [5.],\n",
            "        [6.],\n",
            "        [7.],\n",
            "        [8.],\n",
            "        [9.]]) \n",
            "reshape:\n",
            "tensor([[[1., 2., 3., 4., 5., 6., 7., 8., 9.]]])\n"
          ]
        }
      ]
    },
    {
      "cell_type": "code",
      "source": [
        "x_reshapeA = x.reshape(3,3)\n",
        "x_reshapeA\n"
      ],
      "metadata": {
        "colab": {
          "base_uri": "https://localhost:8080/"
        },
        "id": "xPqGqG-VHGtn",
        "outputId": "94d633e5-7fa2-45c0-cbc0-9480b0b94ad7"
      },
      "execution_count": 48,
      "outputs": [
        {
          "output_type": "execute_result",
          "data": {
            "text/plain": [
              "tensor([[1., 2., 3.],\n",
              "        [4., 5., 6.],\n",
              "        [7., 8., 9.]])"
            ]
          },
          "metadata": {},
          "execution_count": 48
        }
      ]
    },
    {
      "cell_type": "code",
      "source": [
        "import torch\n",
        "x = torch.arange(1., 8.)\n",
        "x, x.shape\n",
        "\n",
        "\n"
      ],
      "metadata": {
        "colab": {
          "base_uri": "https://localhost:8080/"
        },
        "id": "YHp_iX7Wtf7Q",
        "outputId": "18eb51f7-ce58-49eb-e77b-89dec8ae386e"
      },
      "execution_count": 39,
      "outputs": [
        {
          "output_type": "execute_result",
          "data": {
            "text/plain": [
              "(tensor([1., 2., 3., 4., 5., 6., 7.]), torch.Size([7]))"
            ]
          },
          "metadata": {},
          "execution_count": 39
        }
      ]
    },
    {
      "cell_type": "code",
      "source": [
        "x_reshaped = x.reshape(1, 7)\n",
        "x_reshaped, x_reshaped.shape"
      ],
      "metadata": {
        "colab": {
          "base_uri": "https://localhost:8080/"
        },
        "id": "1RKP7hHxyPkI",
        "outputId": "d814a559-2331-4f19-c442-a2ca17cfc94f"
      },
      "execution_count": 42,
      "outputs": [
        {
          "output_type": "execute_result",
          "data": {
            "text/plain": [
              "(tensor([[1., 2., 3., 4., 5., 6., 7.]]), torch.Size([1, 7]))"
            ]
          },
          "metadata": {},
          "execution_count": 42
        }
      ]
    },
    {
      "cell_type": "code",
      "source": [
        "x=torch.tensor([1,2,3,4])\n",
        "x_stacked_0 = torch.stack([x,x,x],dim=0)\n",
        "x_stacked_1 = torch.stack([x,x,x],dim=1)\n",
        "print(f\"x_stacked_0 : {x_stacked_0 } \\nx_stacked_1 : {x_stacked_1}\")\n",
        "print(f\"{x_stacked_0[1][2]} {x_stacked_1[2][1]}\")"
      ],
      "metadata": {
        "colab": {
          "base_uri": "https://localhost:8080/"
        },
        "id": "-9TEFDLYwNx7",
        "outputId": "a4c27a02-a211-476c-93b8-6bfbad371e2f"
      },
      "execution_count": 22,
      "outputs": [
        {
          "output_type": "stream",
          "name": "stdout",
          "text": [
            "x_stacked_0 : tensor([[1, 2, 3, 4],\n",
            "        [1, 2, 3, 4],\n",
            "        [1, 2, 3, 4]]) \n",
            "x_stacked_1 : tensor([[1, 1, 1],\n",
            "        [2, 2, 2],\n",
            "        [3, 3, 3],\n",
            "        [4, 4, 4]])\n",
            "3 3\n"
          ]
        }
      ]
    },
    {
      "cell_type": "code",
      "source": [
        "unsq = x_stacked_0.unsqueeze(1)\n",
        "unsq2 = unsq.unsqueeze(1)\n",
        "print(f\"x_stacked_0: \\n{x_stacked_0}\\nunsq: \\n{unsq}\\nunsq2: \\n{unsq2}\")\n",
        "sq1=unsq2.squeeze(1)\n",
        "print(f\"sq1 \\n{sq1}\")"
      ],
      "metadata": {
        "colab": {
          "base_uri": "https://localhost:8080/"
        },
        "id": "r6SHx_vBy8CV",
        "outputId": "da7b6bf3-b354-46a8-9ebe-2cfa83f0d94f"
      },
      "execution_count": 23,
      "outputs": [
        {
          "output_type": "stream",
          "name": "stdout",
          "text": [
            "x_stacked_0: \n",
            "tensor([[1, 2, 3, 4],\n",
            "        [1, 2, 3, 4],\n",
            "        [1, 2, 3, 4]])\n",
            "unsq: \n",
            "tensor([[[1, 2, 3, 4]],\n",
            "\n",
            "        [[1, 2, 3, 4]],\n",
            "\n",
            "        [[1, 2, 3, 4]]])\n",
            "unsq2: \n",
            "tensor([[[[1, 2, 3, 4]]],\n",
            "\n",
            "\n",
            "        [[[1, 2, 3, 4]]],\n",
            "\n",
            "\n",
            "        [[[1, 2, 3, 4]]]])\n",
            "sq1 \n",
            "tensor([[[1, 2, 3, 4]],\n",
            "\n",
            "        [[1, 2, 3, 4]],\n",
            "\n",
            "        [[1, 2, 3, 4]]])\n"
          ]
        }
      ]
    },
    {
      "cell_type": "code",
      "source": [
        "x = torch.zeros(2, 1, 2, 1, 2)\n",
        "#x[0][0][0][0]\n",
        "print(f\"x: \\n{x} \\nx.squeeze(): \\n{x.squeeze()}\")\n",
        "x.squeeze().size()"
      ],
      "metadata": {
        "colab": {
          "base_uri": "https://localhost:8080/"
        },
        "id": "PStH2mvb0paP",
        "outputId": "dc2bda4f-f5a1-4b59-c5d7-608d66b8087e"
      },
      "execution_count": 24,
      "outputs": [
        {
          "output_type": "stream",
          "name": "stdout",
          "text": [
            "x: \n",
            "tensor([[[[[0., 0.]],\n",
            "\n",
            "          [[0., 0.]]]],\n",
            "\n",
            "\n",
            "\n",
            "        [[[[0., 0.]],\n",
            "\n",
            "          [[0., 0.]]]]]) \n",
            "x.squeeze(): \n",
            "tensor([[[0., 0.],\n",
            "         [0., 0.]],\n",
            "\n",
            "        [[0., 0.],\n",
            "         [0., 0.]]])\n"
          ]
        },
        {
          "output_type": "execute_result",
          "data": {
            "text/plain": [
              "torch.Size([2, 2, 2])"
            ]
          },
          "metadata": {},
          "execution_count": 24
        }
      ]
    },
    {
      "cell_type": "code",
      "source": [
        "x1 = torch.zeros(3,1,2)\n",
        "x1"
      ],
      "metadata": {
        "colab": {
          "base_uri": "https://localhost:8080/"
        },
        "id": "bp7mTh3R1Nec",
        "outputId": "7294d799-86e8-46e1-d085-74bb00e3004f"
      },
      "execution_count": 25,
      "outputs": [
        {
          "output_type": "execute_result",
          "data": {
            "text/plain": [
              "tensor([[[0., 0.]],\n",
              "\n",
              "        [[0., 0.]],\n",
              "\n",
              "        [[0., 0.]]])"
            ]
          },
          "metadata": {},
          "execution_count": 25
        }
      ]
    },
    {
      "cell_type": "code",
      "source": [
        "x1 = torch.zeros(2,1,2)\n",
        "x1_0 = x1.unsqueeze(0)\n",
        "x1_1 = x1.unsqueeze(3)\n",
        "print(f\"x1:\\n {x1} \\n{x1.size()} \\nunsq 0: \\n {x1_0} \\n{x1_0.size()}\\nunsq 1: \\n{x1_1} \\n{x1_1.size()}\");"
      ],
      "metadata": {
        "colab": {
          "base_uri": "https://localhost:8080/"
        },
        "id": "tLW2sh3G4LXw",
        "outputId": "13d0ec50-6496-4622-8f26-d9460e125ec2"
      },
      "execution_count": 26,
      "outputs": [
        {
          "output_type": "stream",
          "name": "stdout",
          "text": [
            "x1:\n",
            " tensor([[[0., 0.]],\n",
            "\n",
            "        [[0., 0.]]]) \n",
            "torch.Size([2, 1, 2]) \n",
            "unsq 0: \n",
            " tensor([[[[0., 0.]],\n",
            "\n",
            "         [[0., 0.]]]]) \n",
            "torch.Size([1, 2, 1, 2])\n",
            "unsq 1: \n",
            "tensor([[[[0.],\n",
            "          [0.]]],\n",
            "\n",
            "\n",
            "        [[[0.],\n",
            "          [0.]]]]) \n",
            "torch.Size([2, 1, 2, 1])\n"
          ]
        }
      ]
    },
    {
      "cell_type": "code",
      "source": [
        "x_o = torch.rand(size=(224,224,3))\n",
        "x_o.size()\n",
        "x_p = x_o.permute(2,0,1)\n",
        "x_p.size()\n",
        "print(f\"Original:\\n{x_o.size()} \\nPermuted: \\n{x_p.size()}\")\n",
        "x_v = x_o.view(3,3,3)\n",
        "print(f\"view:\\n{x_v.size()}\")\n"
      ],
      "metadata": {
        "colab": {
          "base_uri": "https://localhost:8080/",
          "height": 297
        },
        "id": "yjbK2Jl-vyed",
        "outputId": "9f10f0f4-5fb1-4704-ab32-061b7520b4f0"
      },
      "execution_count": 36,
      "outputs": [
        {
          "output_type": "stream",
          "name": "stdout",
          "text": [
            "Original:\n",
            "torch.Size([224, 224, 3]) \n",
            "Permuted: \n",
            "torch.Size([3, 224, 224])\n"
          ]
        },
        {
          "output_type": "error",
          "ename": "RuntimeError",
          "evalue": "ignored",
          "traceback": [
            "\u001b[0;31m---------------------------------------------------------------------------\u001b[0m",
            "\u001b[0;31mRuntimeError\u001b[0m                              Traceback (most recent call last)",
            "\u001b[0;32m<ipython-input-36-22816ef1a33f>\u001b[0m in \u001b[0;36m<cell line: 6>\u001b[0;34m()\u001b[0m\n\u001b[1;32m      4\u001b[0m \u001b[0mx_p\u001b[0m\u001b[0;34m.\u001b[0m\u001b[0msize\u001b[0m\u001b[0;34m(\u001b[0m\u001b[0;34m)\u001b[0m\u001b[0;34m\u001b[0m\u001b[0;34m\u001b[0m\u001b[0m\n\u001b[1;32m      5\u001b[0m \u001b[0mprint\u001b[0m\u001b[0;34m(\u001b[0m\u001b[0;34mf\"Original:\\n{x_o.size()} \\nPermuted: \\n{x_p.size()}\"\u001b[0m\u001b[0;34m)\u001b[0m\u001b[0;34m\u001b[0m\u001b[0;34m\u001b[0m\u001b[0m\n\u001b[0;32m----> 6\u001b[0;31m \u001b[0mx_v\u001b[0m \u001b[0;34m=\u001b[0m \u001b[0mx_o\u001b[0m\u001b[0;34m.\u001b[0m\u001b[0mview\u001b[0m\u001b[0;34m(\u001b[0m\u001b[0;36m3\u001b[0m\u001b[0;34m,\u001b[0m\u001b[0;36m3\u001b[0m\u001b[0;34m,\u001b[0m\u001b[0;36m3\u001b[0m\u001b[0;34m)\u001b[0m\u001b[0;34m\u001b[0m\u001b[0;34m\u001b[0m\u001b[0m\n\u001b[0m\u001b[1;32m      7\u001b[0m \u001b[0mprint\u001b[0m\u001b[0;34m(\u001b[0m\u001b[0;34mf\"view:\\n{x_v.size()}\"\u001b[0m\u001b[0;34m)\u001b[0m\u001b[0;34m\u001b[0m\u001b[0;34m\u001b[0m\u001b[0m\n",
            "\u001b[0;31mRuntimeError\u001b[0m: shape '[3, 3, 3]' is invalid for input of size 150528"
          ]
        }
      ]
    },
    {
      "cell_type": "code",
      "source": [
        "# Create a tensor\n",
        "import torch\n",
        "x = torch.arange(1., 8.)\n",
        "x, x.shape"
      ],
      "metadata": {
        "colab": {
          "base_uri": "https://localhost:8080/"
        },
        "id": "eRPWntrgzlBy",
        "outputId": "0df3f2af-abb0-47db-b4ca-f4d180e0e5d5"
      },
      "execution_count": 49,
      "outputs": [
        {
          "output_type": "execute_result",
          "data": {
            "text/plain": [
              "(tensor([1., 2., 3., 4., 5., 6., 7.]), torch.Size([7]))"
            ]
          },
          "metadata": {},
          "execution_count": 49
        }
      ]
    },
    {
      "cell_type": "code",
      "source": [
        "# Add an extra dimension\n",
        "x_reshaped = x.reshape(1,1,7)\n",
        "x_reshaped, x_reshaped.shape"
      ],
      "metadata": {
        "colab": {
          "base_uri": "https://localhost:8080/"
        },
        "id": "T1QZTfZSzof5",
        "outputId": "8d9ed266-131c-405c-bdfa-215685cd0bb3"
      },
      "execution_count": 50,
      "outputs": [
        {
          "output_type": "execute_result",
          "data": {
            "text/plain": [
              "(tensor([[[1., 2., 3., 4., 5., 6., 7.]]]), torch.Size([1, 1, 7]))"
            ]
          },
          "metadata": {},
          "execution_count": 50
        }
      ]
    },
    {
      "cell_type": "code",
      "source": [
        "# Change view (keeps same data as original but changes view)\n",
        "# See more: https://stackoverflow.com/a/54507446/7900723\n",
        "z = x.view(1, 7)\n",
        "z, z.shape"
      ],
      "metadata": {
        "colab": {
          "base_uri": "https://localhost:8080/"
        },
        "id": "F0Cgtkv2z1Fo",
        "outputId": "51b5f375-a01a-4d71-9c3d-1612702cc53f"
      },
      "execution_count": 51,
      "outputs": [
        {
          "output_type": "execute_result",
          "data": {
            "text/plain": [
              "(tensor([[1., 2., 3., 4., 5., 6., 7.]]), torch.Size([1, 7]))"
            ]
          },
          "metadata": {},
          "execution_count": 51
        }
      ]
    },
    {
      "cell_type": "code",
      "source": [
        " t = torch.rand(4, 4)\n",
        " t2=t.view(2,8)\n",
        " print(f\"Original:\\n{t.size()} \\nView: \\n{t2.size()}\")\n",
        " print(f\"Original:\\n{t} \\nView: \\n{t2}\")"
      ],
      "metadata": {
        "colab": {
          "base_uri": "https://localhost:8080/"
        },
        "id": "eeIWVQQw0Sig",
        "outputId": "d1447ce8-906b-4e8d-99a1-0bf0d366a907"
      },
      "execution_count": 53,
      "outputs": [
        {
          "output_type": "stream",
          "name": "stdout",
          "text": [
            "Original:\n",
            "torch.Size([4, 4]) \n",
            "View: \n",
            "torch.Size([2, 8])\n",
            "Original:\n",
            "tensor([[0.8550, 0.6688, 0.6337, 0.2796],\n",
            "        [0.0729, 0.2694, 0.5803, 0.5820],\n",
            "        [0.0520, 0.9243, 0.6473, 0.2111],\n",
            "        [0.5077, 0.5629, 0.7026, 0.7277]]) \n",
            "View: \n",
            "tensor([[0.8550, 0.6688, 0.6337, 0.2796, 0.0729, 0.2694, 0.5803, 0.5820],\n",
            "        [0.0520, 0.9243, 0.6473, 0.2111, 0.5077, 0.5629, 0.7026, 0.7277]])\n"
          ]
        }
      ]
    },
    {
      "cell_type": "code",
      "source": [
        "t = torch.rand(2,3,4)\n",
        "tP=t.permute(0,2,1)\n",
        "t,t.size(),tP,tP.size()"
      ],
      "metadata": {
        "colab": {
          "base_uri": "https://localhost:8080/"
        },
        "id": "BxhJ0coc1AWB",
        "outputId": "ee9047f3-df15-4a74-dda3-9b8cd3f9b6fe"
      },
      "execution_count": 59,
      "outputs": [
        {
          "output_type": "execute_result",
          "data": {
            "text/plain": [
              "(tensor([[[0.9529, 0.1553, 0.9317, 0.0205],\n",
              "          [0.3172, 0.7206, 0.7490, 0.9716],\n",
              "          [0.7406, 0.9260, 0.2567, 0.3920]],\n",
              " \n",
              "         [[0.1046, 0.6647, 0.9310, 0.7223],\n",
              "          [0.7650, 0.5050, 0.1572, 0.0839],\n",
              "          [0.4817, 0.6863, 0.7567, 0.6299]]]),\n",
              " torch.Size([2, 3, 4]),\n",
              " tensor([[[0.9529, 0.3172, 0.7406],\n",
              "          [0.1553, 0.7206, 0.9260],\n",
              "          [0.9317, 0.7490, 0.2567],\n",
              "          [0.0205, 0.9716, 0.3920]],\n",
              " \n",
              "         [[0.1046, 0.7650, 0.4817],\n",
              "          [0.6647, 0.5050, 0.6863],\n",
              "          [0.9310, 0.1572, 0.7567],\n",
              "          [0.7223, 0.0839, 0.6299]]]),\n",
              " torch.Size([2, 4, 3]))"
            ]
          },
          "metadata": {},
          "execution_count": 59
        }
      ]
    },
    {
      "cell_type": "code",
      "source": [
        "t = torch.arange(1,13).reshape(2,2,3)\n",
        "t,t[0,:,0]"
      ],
      "metadata": {
        "colab": {
          "base_uri": "https://localhost:8080/"
        },
        "id": "lNfxPu3n2wF5",
        "outputId": "fc4b2806-e831-4573-fa30-53d3cbc315f2"
      },
      "execution_count": 91,
      "outputs": [
        {
          "output_type": "execute_result",
          "data": {
            "text/plain": [
              "(tensor([[[ 1,  2,  3],\n",
              "          [ 4,  5,  6]],\n",
              " \n",
              "         [[ 7,  8,  9],\n",
              "          [10, 11, 12]]]),\n",
              " tensor([1, 4]))"
            ]
          },
          "metadata": {},
          "execution_count": 91
        }
      ]
    },
    {
      "cell_type": "code",
      "source": [],
      "metadata": {
        "id": "IyZiQz2a720B"
      },
      "execution_count": null,
      "outputs": []
    },
    {
      "cell_type": "code",
      "source": [],
      "metadata": {
        "id": "cNDSWyqP73_Z"
      },
      "execution_count": null,
      "outputs": []
    },
    {
      "cell_type": "code",
      "source": [
        "t = torch.arange(1,10).reshape(1,3,3)\n",
        "t[:,:,2]"
      ],
      "metadata": {
        "colab": {
          "base_uri": "https://localhost:8080/"
        },
        "id": "dOO-ujON61AS",
        "outputId": "fa52df20-9937-4183-ae5f-8e8ee1775e7e"
      },
      "execution_count": 93,
      "outputs": [
        {
          "output_type": "execute_result",
          "data": {
            "text/plain": [
              "tensor([[3, 6, 9]])"
            ]
          },
          "metadata": {},
          "execution_count": 93
        }
      ]
    },
    {
      "cell_type": "code",
      "source": [],
      "metadata": {
        "id": "JF2GERQ675QI"
      },
      "execution_count": null,
      "outputs": []
    },
    {
      "cell_type": "markdown",
      "source": [
        "## Torch and Numpy"
      ],
      "metadata": {
        "id": "FVeUaTzY7-56"
      }
    },
    {
      "cell_type": "markdown",
      "source": [],
      "metadata": {
        "id": "Tl0e_vX8791X"
      }
    },
    {
      "cell_type": "code",
      "source": [
        "import torch\n",
        "import numpy as np\n",
        "\n",
        "array = np.arange(1.0,8.0)\n",
        "t=torch.from_numpy(array).type(torch.float16)\n",
        "#ft16=t.type(torch.float16)\n",
        "#ft16\n",
        "t1 = torch.ones(7).type(torch.float16)\n",
        "numpy_t = t1.numpy()\n",
        "numpy_t\n"
      ],
      "metadata": {
        "colab": {
          "base_uri": "https://localhost:8080/"
        },
        "id": "VJxYlsY48Cr4",
        "outputId": "98bc48f5-6ba0-4667-c42f-07276249480a"
      },
      "execution_count": 102,
      "outputs": [
        {
          "output_type": "execute_result",
          "data": {
            "text/plain": [
              "array([1., 1., 1., 1., 1., 1., 1.], dtype=float16)"
            ]
          },
          "metadata": {},
          "execution_count": 102
        }
      ]
    },
    {
      "cell_type": "code",
      "source": [],
      "metadata": {
        "id": "lv7ZWCtnHaHT"
      },
      "execution_count": null,
      "outputs": []
    },
    {
      "cell_type": "markdown",
      "source": [
        "## Taking random out of random\n"
      ],
      "metadata": {
        "id": "S7lQekNXHOcd"
      }
    },
    {
      "cell_type": "code",
      "source": [
        "t1 = torch.rand(3,3,4)\n",
        "t2 = torch.rand(3,3,4)\n",
        "t1,t2,t1==t2"
      ],
      "metadata": {
        "colab": {
          "base_uri": "https://localhost:8080/"
        },
        "id": "GWEz1vF9InNj",
        "outputId": "1bd04a4e-d420-41a4-fa40-ef82665ce2ae"
      },
      "execution_count": 105,
      "outputs": [
        {
          "output_type": "execute_result",
          "data": {
            "text/plain": [
              "(tensor([[[0.6610, 0.8542, 0.0441, 0.6325],\n",
              "          [0.1530, 0.4544, 0.9613, 0.0074],\n",
              "          [0.5188, 0.1061, 0.8116, 0.7975]],\n",
              " \n",
              "         [[0.6513, 0.1973, 0.9392, 0.2731],\n",
              "          [0.4808, 0.2656, 0.5301, 0.7387],\n",
              "          [0.2592, 0.1327, 0.2589, 0.6766]],\n",
              " \n",
              "         [[0.9748, 0.6938, 0.5063, 0.3089],\n",
              "          [0.1468, 0.2763, 0.1293, 0.5921],\n",
              "          [0.7805, 0.0029, 0.1095, 0.8972]]]),\n",
              " tensor([[[0.0759, 0.7897, 0.7119, 0.0270],\n",
              "          [0.3801, 0.1586, 0.7255, 0.8118],\n",
              "          [0.0836, 0.0983, 0.7379, 0.2308]],\n",
              " \n",
              "         [[0.5372, 0.3245, 0.1895, 0.5128],\n",
              "          [0.6461, 0.0219, 0.0653, 0.4975],\n",
              "          [0.4077, 0.5408, 0.4921, 0.5447]],\n",
              " \n",
              "         [[0.9435, 0.6569, 0.1668, 0.9706],\n",
              "          [0.8142, 0.2420, 0.6534, 0.0309],\n",
              "          [0.0809, 0.9038, 0.6871, 0.2486]]]),\n",
              " tensor([[[False, False, False, False],\n",
              "          [False, False, False, False],\n",
              "          [False, False, False, False]],\n",
              " \n",
              "         [[False, False, False, False],\n",
              "          [False, False, False, False],\n",
              "          [False, False, False, False]],\n",
              " \n",
              "         [[False, False, False, False],\n",
              "          [False, False, False, False],\n",
              "          [False, False, False, False]]]))"
            ]
          },
          "metadata": {},
          "execution_count": 105
        }
      ]
    },
    {
      "cell_type": "markdown",
      "source": [
        "# With GPU"
      ],
      "metadata": {
        "id": "QaTOS37jRMxr"
      }
    },
    {
      "cell_type": "code",
      "source": [
        "import torch\n",
        "#torch.cuda.is_available()\n",
        "!nvidia-smi\n"
      ],
      "metadata": {
        "colab": {
          "base_uri": "https://localhost:8080/"
        },
        "id": "XW3-QTVSRPp6",
        "outputId": "9a9b4a0e-5cef-4baa-99e9-bf880f75a238"
      },
      "execution_count": 3,
      "outputs": [
        {
          "output_type": "stream",
          "name": "stdout",
          "text": [
            "Sat Oct  7 03:56:12 2023       \n",
            "+-----------------------------------------------------------------------------+\n",
            "| NVIDIA-SMI 525.105.17   Driver Version: 525.105.17   CUDA Version: 12.0     |\n",
            "|-------------------------------+----------------------+----------------------+\n",
            "| GPU  Name        Persistence-M| Bus-Id        Disp.A | Volatile Uncorr. ECC |\n",
            "| Fan  Temp  Perf  Pwr:Usage/Cap|         Memory-Usage | GPU-Util  Compute M. |\n",
            "|                               |                      |               MIG M. |\n",
            "|===============================+======================+======================|\n",
            "|   0  Tesla T4            Off  | 00000000:00:04.0 Off |                    0 |\n",
            "| N/A   43C    P8    10W /  70W |      3MiB / 15360MiB |      0%      Default |\n",
            "|                               |                      |                  N/A |\n",
            "+-------------------------------+----------------------+----------------------+\n",
            "                                                                               \n",
            "+-----------------------------------------------------------------------------+\n",
            "| Processes:                                                                  |\n",
            "|  GPU   GI   CI        PID   Type   Process name                  GPU Memory |\n",
            "|        ID   ID                                                   Usage      |\n",
            "|=============================================================================|\n",
            "|  No running processes found                                                 |\n",
            "+-----------------------------------------------------------------------------+\n"
          ]
        }
      ]
    },
    {
      "cell_type": "code",
      "source": [
        ""
      ],
      "metadata": {
        "id": "bLpdRhzUHcsS"
      },
      "execution_count": null,
      "outputs": []
    },
    {
      "cell_type": "code",
      "source": [
        "device = \"cuda\" if torch.cuda.is_available() else \"cpu\"\n",
        "# torch.cuda.device_count()\n",
        "# device\n",
        "t1 = torch.tensor([1,2,3])\n",
        "t1d = t1.to(device);\n",
        "t2 = t1d.cpu()\n",
        "t1,t2,t1d\n",
        "\n"
      ],
      "metadata": {
        "colab": {
          "base_uri": "https://localhost:8080/"
        },
        "id": "Zx--k-XpHUOS",
        "outputId": "fd1dfd27-5028-44e3-aaf8-7b419c4aa671"
      },
      "execution_count": 12,
      "outputs": [
        {
          "output_type": "execute_result",
          "data": {
            "text/plain": [
              "(tensor([1, 2, 3]), tensor([1, 2, 3]), tensor([1, 2, 3], device='cuda:0'))"
            ]
          },
          "metadata": {},
          "execution_count": 12
        }
      ]
    }
  ]
}