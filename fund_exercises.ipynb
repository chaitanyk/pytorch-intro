{
  "nbformat": 4,
  "nbformat_minor": 0,
  "metadata": {
    "colab": {
      "provenance": [],
      "gpuType": "T4",
      "authorship_tag": "ABX9TyNsb9C4IIh/7+cVvCVs47Zj",
      "include_colab_link": true
    },
    "kernelspec": {
      "name": "python3",
      "display_name": "Python 3"
    },
    "language_info": {
      "name": "python"
    },
    "accelerator": "GPU"
  },
  "cells": [
    {
      "cell_type": "markdown",
      "metadata": {
        "id": "view-in-github",
        "colab_type": "text"
      },
      "source": [
        "<a href=\"https://colab.research.google.com/github/chaitanyk/pytorch-intro/blob/main/fund_exercises.ipynb\" target=\"_parent\"><img src=\"https://colab.research.google.com/assets/colab-badge.svg\" alt=\"Open In Colab\"/></a>"
      ]
    },
    {
      "cell_type": "code",
      "execution_count": 6,
      "metadata": {
        "colab": {
          "base_uri": "https://localhost:8080/"
        },
        "id": "weCnqF03X88z",
        "outputId": "dea7727d-663c-4449-a3c5-7f9ec156eb0d"
      },
      "outputs": [
        {
          "output_type": "execute_result",
          "data": {
            "text/plain": [
              "1"
            ]
          },
          "metadata": {},
          "execution_count": 6
        }
      ],
      "source": [
        "import torch\n",
        "t = torch.tensor([[[[1]]]])\n",
        "t.item()"
      ]
    },
    {
      "cell_type": "code",
      "source": [
        "\n",
        "t = torch.tensor([[1., -1.], [1., 1.]], requires_grad=True)\n",
        "out = t.pow(2).sum()\n",
        "out.backward()\n",
        "t.grad"
      ],
      "metadata": {
        "colab": {
          "base_uri": "https://localhost:8080/"
        },
        "id": "7nalhuPvFt3j",
        "outputId": "e891b66d-0c8a-47fc-89eb-9dc4c78f9d82"
      },
      "execution_count": 38,
      "outputs": [
        {
          "output_type": "execute_result",
          "data": {
            "text/plain": [
              "tensor([[ 2., -2.],\n",
              "        [ 2.,  2.]])"
            ]
          },
          "metadata": {},
          "execution_count": 38
        }
      ]
    },
    {
      "cell_type": "code",
      "source": [
        "t = torch.tensor([[1,2],[3,4],[5,6]])\n",
        "t.T"
      ],
      "metadata": {
        "colab": {
          "base_uri": "https://localhost:8080/"
        },
        "id": "rdfu0BJkGCJZ",
        "outputId": "071a87ce-bc20-41bd-fcf3-6bd0aa5b3e4b"
      },
      "execution_count": 42,
      "outputs": [
        {
          "output_type": "execute_result",
          "data": {
            "text/plain": [
              "tensor([[1, 3, 5],\n",
              "        [2, 4, 6]])"
            ]
          },
          "metadata": {},
          "execution_count": 42
        }
      ]
    },
    {
      "cell_type": "code",
      "source": [
        "t,t.T,t.H"
      ],
      "metadata": {
        "colab": {
          "base_uri": "https://localhost:8080/"
        },
        "id": "uJF0h6QfGCNC",
        "outputId": "2838ea29-b89d-41ca-ac14-e941fefc1970"
      },
      "execution_count": 45,
      "outputs": [
        {
          "output_type": "execute_result",
          "data": {
            "text/plain": [
              "(tensor([[1, 2],\n",
              "         [3, 4],\n",
              "         [5, 6]]),\n",
              " tensor([[1, 3, 5],\n",
              "         [2, 4, 6]]),\n",
              " tensor([[1, 3, 5],\n",
              "         [2, 4, 6]]))"
            ]
          },
          "metadata": {},
          "execution_count": 45
        }
      ]
    },
    {
      "cell_type": "code",
      "source": [
        "t = torch.tensor([[[[1,2],[4,3],[5,6]],[[1,2],[3,4],[5,6]]]])\n",
        "t,t.mT"
      ],
      "metadata": {
        "colab": {
          "base_uri": "https://localhost:8080/"
        },
        "id": "FtYAl5VOGCUi",
        "outputId": "6606739e-15cf-42e1-eb10-b3629f011ab0"
      },
      "execution_count": 57,
      "outputs": [
        {
          "output_type": "execute_result",
          "data": {
            "text/plain": [
              "(tensor([[[[1, 2],\n",
              "           [4, 3],\n",
              "           [5, 6]],\n",
              " \n",
              "          [[1, 2],\n",
              "           [3, 4],\n",
              "           [5, 6]]]]),\n",
              " tensor([[[[1, 4, 5],\n",
              "           [2, 3, 6]],\n",
              " \n",
              "          [[1, 3, 5],\n",
              "           [2, 4, 6]]]]))"
            ]
          },
          "metadata": {},
          "execution_count": 57
        }
      ]
    },
    {
      "cell_type": "code",
      "source": [
        "import torch\n",
        "\n",
        "RANDOM_SEED=0\n",
        "torch.manual_seed(RANDOM_SEED)\n",
        "t=torch.rand(7,7)\n",
        "torch.manual_seed(RANDOM_SEED)\n",
        "t2=torch.rand(1,7)\n",
        "t3=t.matmul(t2.T)\n",
        "t,t2,t3"
      ],
      "metadata": {
        "colab": {
          "base_uri": "https://localhost:8080/"
        },
        "id": "fUKuJLJUGVTG",
        "outputId": "a44b5353-f88d-46d8-de76-3ee9fd3d6efc"
      },
      "execution_count": 15,
      "outputs": [
        {
          "output_type": "execute_result",
          "data": {
            "text/plain": [
              "(tensor([[0.4963, 0.7682, 0.0885, 0.1320, 0.3074, 0.6341, 0.4901],\n",
              "         [0.8964, 0.4556, 0.6323, 0.3489, 0.4017, 0.0223, 0.1689],\n",
              "         [0.2939, 0.5185, 0.6977, 0.8000, 0.1610, 0.2823, 0.6816],\n",
              "         [0.9152, 0.3971, 0.8742, 0.4194, 0.5529, 0.9527, 0.0362],\n",
              "         [0.1852, 0.3734, 0.3051, 0.9320, 0.1759, 0.2698, 0.1507],\n",
              "         [0.0317, 0.2081, 0.9298, 0.7231, 0.7423, 0.5263, 0.2437],\n",
              "         [0.5846, 0.0332, 0.1387, 0.2422, 0.8155, 0.7932, 0.2783]]),\n",
              " tensor([[0.4963, 0.7682, 0.0885, 0.1320, 0.3074, 0.6341, 0.4901]]),\n",
              " tensor([[1.5985],\n",
              "         [1.1173],\n",
              "         [1.2741],\n",
              "         [1.6838],\n",
              "         [0.8279],\n",
              "         [1.0347],\n",
              "         [1.2498]]))"
            ]
          },
          "metadata": {},
          "execution_count": 15
        }
      ]
    },
    {
      "cell_type": "code",
      "source": [
        "import torch\n",
        "RANDOM_SEED=1234\n",
        "torch.cuda.manual_seed(RANDOM_SEED)\n",
        "t=torch.rand(7,7,device=\"cuda\")\n",
        "t\n"
      ],
      "metadata": {
        "colab": {
          "base_uri": "https://localhost:8080/"
        },
        "id": "EyRXfTC7Hy8t",
        "outputId": "765d5ec2-493d-4e42-e248-7bb60e9c44ac"
      },
      "execution_count": 3,
      "outputs": [
        {
          "output_type": "execute_result",
          "data": {
            "text/plain": [
              "tensor([[0.1272, 0.8167, 0.5440, 0.6601, 0.2721, 0.9737, 0.3903],\n",
              "        [0.3394, 0.5451, 0.7312, 0.3864, 0.5959, 0.7578, 0.2126],\n",
              "        [0.7198, 0.9845, 0.5518, 0.0981, 0.0582, 0.5839, 0.1083],\n",
              "        [0.9461, 0.3170, 0.8328, 0.6676, 0.2886, 0.9022, 0.8115],\n",
              "        [0.1784, 0.9534, 0.1486, 0.3882, 0.7977, 0.1752, 0.5777],\n",
              "        [0.1949, 0.8499, 0.3125, 0.2156, 0.0383, 0.4934, 0.3138],\n",
              "        [0.3121, 0.5664, 0.1266, 0.7097, 0.0040, 0.5147, 0.2811]],\n",
              "       device='cuda:0')"
            ]
          },
          "metadata": {},
          "execution_count": 3
        }
      ]
    },
    {
      "cell_type": "code",
      "source": [
        "torch.manual_seed(1234)\n",
        "r1=torch.rand(2,3).to(\"cuda\")\n",
        "torch.manual_seed(1234)\n",
        "r2=torch.rand(2,3).to(\"cuda\")\n",
        "r1,r2"
      ],
      "metadata": {
        "colab": {
          "base_uri": "https://localhost:8080/"
        },
        "id": "wgkPrtmdIVA9",
        "outputId": "e048f325-0dc9-4307-bf56-aa6ce347d2c2"
      },
      "execution_count": 5,
      "outputs": [
        {
          "output_type": "execute_result",
          "data": {
            "text/plain": [
              "(tensor([[0.0290, 0.4019, 0.2598],\n",
              "         [0.3666, 0.0583, 0.7006]], device='cuda:0'),\n",
              " tensor([[0.0290, 0.4019, 0.2598],\n",
              "         [0.3666, 0.0583, 0.7006]], device='cuda:0'))"
            ]
          },
          "metadata": {},
          "execution_count": 5
        }
      ]
    },
    {
      "cell_type": "code",
      "source": [
        "torch.manual_seed(1234)\n",
        "r1=torch.rand(2,3).to(\"cuda\")\n",
        "torch.manual_seed(1234)\n",
        "r2=torch.rand(2,3).to(\"cuda\")\n",
        "res=r1.matmul(r2.T)\n",
        "# r1.size(), r2.size(),res.size()\n",
        "# res.argmin(),res.argmax(),res,res.min(),res.max()"
      ],
      "metadata": {
        "colab": {
          "base_uri": "https://localhost:8080/"
        },
        "id": "eub9HubtIpdT",
        "outputId": "6545399b-198c-43c8-8df7-51e4756a0c2f"
      },
      "execution_count": 10,
      "outputs": [
        {
          "output_type": "execute_result",
          "data": {
            "text/plain": [
              "(tensor(1, device='cuda:0'),\n",
              " tensor(3, device='cuda:0'),\n",
              " tensor([[0.2299, 0.2161],\n",
              "         [0.2161, 0.6287]], device='cuda:0'),\n",
              " tensor(0.2161, device='cuda:0'),\n",
              " tensor(0.6287, device='cuda:0'))"
            ]
          },
          "metadata": {},
          "execution_count": 10
        }
      ]
    },
    {
      "cell_type": "code",
      "source": [
        "\n",
        "# Set seed\n",
        "SEED=7\n",
        "torch.manual_seed(SEED)\n",
        "t1=torch.rand(1,1,1,10)\n",
        "t2=t1.squeeze()\n",
        "t2.size(),t1,t2\n",
        "\n",
        "\n",
        "# Create random tensor\n",
        "\n",
        "\n",
        "# Remove single dimensions\n",
        "\n",
        "\n",
        "# Print out tensors and their shapes"
      ],
      "metadata": {
        "colab": {
          "base_uri": "https://localhost:8080/"
        },
        "id": "UF07yOjcJYxF",
        "outputId": "af6fad17-33e5-469c-d474-d007ed50b6b0"
      },
      "execution_count": 17,
      "outputs": [
        {
          "output_type": "execute_result",
          "data": {
            "text/plain": [
              "(torch.Size([10]),\n",
              " tensor([[[[0.5349, 0.1988, 0.6592, 0.6569, 0.2328, 0.4251, 0.2071, 0.6297,\n",
              "            0.3653, 0.8513]]]]),\n",
              " tensor([0.5349, 0.1988, 0.6592, 0.6569, 0.2328, 0.4251, 0.2071, 0.6297, 0.3653,\n",
              "         0.8513]))"
            ]
          },
          "metadata": {},
          "execution_count": 17
        }
      ]
    }
  ]
}